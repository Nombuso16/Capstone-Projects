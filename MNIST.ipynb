{
 "cells": [
  {
   "cell_type": "code",
   "execution_count": 1,
   "metadata": {
    "colab": {},
    "colab_type": "code",
    "id": "4r6opegAv77K"
   },
   "outputs": [],
   "source": [
    "import numpy as np\n",
    "\n",
    "import matplotlib.pyplot as plt\n",
    "from sklearn.datasets import load_digits\n",
    "digits = load_digits()"
   ]
  },
  {
   "cell_type": "code",
   "execution_count": 2,
   "metadata": {
    "colab": {},
    "colab_type": "code",
    "id": "2AQQkGIpv77b",
    "outputId": "c18b548f-ce18-4de4-8fbf-7e3745651825"
   },
   "outputs": [
    {
     "name": "stdout",
     "output_type": "stream",
     "text": [
      "Image Data Shape (1797, 64)\n",
      "Label Data Shape (1797,)\n"
     ]
    }
   ],
   "source": [
    "# Print to show there are 1797 images (8 by 8 images for a dimensionality of 64)\n",
    "print(\"Image Data Shape\" , digits.data.shape)\n",
    "\n",
    "# Print to show there are 1797 labels (integers from 0-9)\n",
    "print(\"Label Data Shape\", digits.target.shape)"
   ]
  },
  {
   "cell_type": "code",
   "execution_count": 3,
   "metadata": {
    "colab": {},
    "colab_type": "code",
    "id": "XdGEdpC4v771",
    "outputId": "9c09d62c-30b0-468c-ae38-8c511ac889f6"
   },
   "outputs": [
    {
     "data": {
      "image/png": "[encoded data removed]",
      "text/plain": [
       "<Figure size 1440x288 with 5 Axes>"
      ]
     },
     "metadata": {
      "needs_background": "light"
     },
     "output_type": "display_data"
    }
   ],
   "source": [
    "plt.figure(figsize=(20,4))\n",
    "for index, (image, label) in enumerate(zip(digits.data[0:5], digits.target[0:5])):\n",
    "    plt.subplot(1, 5, index + 1)\n",
    "    plt.imshow(np.reshape(image, (8,8)), cmap=plt.cm.gray)\n",
    "    plt.title('Training: %i\\n' % label, fontsize = 20)"
   ]
  },
  {
   "cell_type": "markdown",
   "metadata": {},
   "source": [
    "# Compulsory Task 1"
   ]
  },
  {
   "cell_type": "code",
   "execution_count": 3,
   "metadata": {},
   "outputs": [
    {
     "data": {
      "text/html": [
       "<div>\n",
       "<style scoped>\n",
       "    .dataframe tbody tr th:only-of-type {\n",
       "        vertical-align: middle;\n",
       "    }\n",
       "\n",
       "    .dataframe tbody tr th {\n",
       "        vertical-align: top;\n",
       "    }\n",
       "\n",
       "    .dataframe thead th {\n",
       "        text-align: right;\n",
       "    }\n",
       "</style>\n",
       "<table border=\"1\" class=\"dataframe\">\n",
       "  <thead>\n",
       "    <tr style=\"text-align: right;\">\n",
       "      <th></th>\n",
       "      <th>label</th>\n",
       "      <th>pixel0</th>\n",
       "      <th>pixel1</th>\n",
       "      <th>pixel2</th>\n",
       "      <th>pixel3</th>\n",
       "      <th>pixel4</th>\n",
       "      <th>pixel5</th>\n",
       "      <th>pixel6</th>\n",
       "      <th>pixel7</th>\n",
       "      <th>pixel8</th>\n",
       "      <th>...</th>\n",
       "      <th>pixel774</th>\n",
       "      <th>pixel775</th>\n",
       "      <th>pixel776</th>\n",
       "      <th>pixel777</th>\n",
       "      <th>pixel778</th>\n",
       "      <th>pixel779</th>\n",
       "      <th>pixel780</th>\n",
       "      <th>pixel781</th>\n",
       "      <th>pixel782</th>\n",
       "      <th>pixel783</th>\n",
       "    </tr>\n",
       "  </thead>\n",
       "  <tbody>\n",
       "    <tr>\n",
       "      <th>0</th>\n",
       "      <td>1</td>\n",
       "      <td>0</td>\n",
       "      <td>0</td>\n",
       "      <td>0</td>\n",
       "      <td>0</td>\n",
       "      <td>0</td>\n",
       "      <td>0</td>\n",
       "      <td>0</td>\n",
       "      <td>0</td>\n",
       "      <td>0</td>\n",
       "      <td>...</td>\n",
       "      <td>0</td>\n",
       "      <td>0</td>\n",
       "      <td>0</td>\n",
       "      <td>0</td>\n",
       "      <td>0</td>\n",
       "      <td>0</td>\n",
       "      <td>0</td>\n",
       "      <td>0</td>\n",
       "      <td>0</td>\n",
       "      <td>0</td>\n",
       "    </tr>\n",
       "    <tr>\n",
       "      <th>1</th>\n",
       "      <td>0</td>\n",
       "      <td>0</td>\n",
       "      <td>0</td>\n",
       "      <td>0</td>\n",
       "      <td>0</td>\n",
       "      <td>0</td>\n",
       "      <td>0</td>\n",
       "      <td>0</td>\n",
       "      <td>0</td>\n",
       "      <td>0</td>\n",
       "      <td>...</td>\n",
       "      <td>0</td>\n",
       "      <td>0</td>\n",
       "      <td>0</td>\n",
       "      <td>0</td>\n",
       "      <td>0</td>\n",
       "      <td>0</td>\n",
       "      <td>0</td>\n",
       "      <td>0</td>\n",
       "      <td>0</td>\n",
       "      <td>0</td>\n",
       "    </tr>\n",
       "    <tr>\n",
       "      <th>2</th>\n",
       "      <td>1</td>\n",
       "      <td>0</td>\n",
       "      <td>0</td>\n",
       "      <td>0</td>\n",
       "      <td>0</td>\n",
       "      <td>0</td>\n",
       "      <td>0</td>\n",
       "      <td>0</td>\n",
       "      <td>0</td>\n",
       "      <td>0</td>\n",
       "      <td>...</td>\n",
       "      <td>0</td>\n",
       "      <td>0</td>\n",
       "      <td>0</td>\n",
       "      <td>0</td>\n",
       "      <td>0</td>\n",
       "      <td>0</td>\n",
       "      <td>0</td>\n",
       "      <td>0</td>\n",
       "      <td>0</td>\n",
       "      <td>0</td>\n",
       "    </tr>\n",
       "    <tr>\n",
       "      <th>3</th>\n",
       "      <td>4</td>\n",
       "      <td>0</td>\n",
       "      <td>0</td>\n",
       "      <td>0</td>\n",
       "      <td>0</td>\n",
       "      <td>0</td>\n",
       "      <td>0</td>\n",
       "      <td>0</td>\n",
       "      <td>0</td>\n",
       "      <td>0</td>\n",
       "      <td>...</td>\n",
       "      <td>0</td>\n",
       "      <td>0</td>\n",
       "      <td>0</td>\n",
       "      <td>0</td>\n",
       "      <td>0</td>\n",
       "      <td>0</td>\n",
       "      <td>0</td>\n",
       "      <td>0</td>\n",
       "      <td>0</td>\n",
       "      <td>0</td>\n",
       "    </tr>\n",
       "    <tr>\n",
       "      <th>4</th>\n",
       "      <td>0</td>\n",
       "      <td>0</td>\n",
       "      <td>0</td>\n",
       "      <td>0</td>\n",
       "      <td>0</td>\n",
       "      <td>0</td>\n",
       "      <td>0</td>\n",
       "      <td>0</td>\n",
       "      <td>0</td>\n",
       "      <td>0</td>\n",
       "      <td>...</td>\n",
       "      <td>0</td>\n",
       "      <td>0</td>\n",
       "      <td>0</td>\n",
       "      <td>0</td>\n",
       "      <td>0</td>\n",
       "      <td>0</td>\n",
       "      <td>0</td>\n",
       "      <td>0</td>\n",
       "      <td>0</td>\n",
       "      <td>0</td>\n",
       "    </tr>\n",
       "  </tbody>\n",
       "</table>\n",
       "<p>5 rows × 785 columns</p>\n",
       "</div>"
      ],
      "text/plain": [
       "   label  pixel0  pixel1  pixel2  pixel3  pixel4  pixel5  pixel6  pixel7  \\\n",
       "0      1       0       0       0       0       0       0       0       0   \n",
       "1      0       0       0       0       0       0       0       0       0   \n",
       "2      1       0       0       0       0       0       0       0       0   \n",
       "3      4       0       0       0       0       0       0       0       0   \n",
       "4      0       0       0       0       0       0       0       0       0   \n",
       "\n",
       "   pixel8  ...  pixel774  pixel775  pixel776  pixel777  pixel778  pixel779  \\\n",
       "0       0  ...         0         0         0         0         0         0   \n",
       "1       0  ...         0         0         0         0         0         0   \n",
       "2       0  ...         0         0         0         0         0         0   \n",
       "3       0  ...         0         0         0         0         0         0   \n",
       "4       0  ...         0         0         0         0         0         0   \n",
       "\n",
       "   pixel780  pixel781  pixel782  pixel783  \n",
       "0         0         0         0         0  \n",
       "1         0         0         0         0  \n",
       "2         0         0         0         0  \n",
       "3         0         0         0         0  \n",
       "4         0         0         0         0  \n",
       "\n",
       "[5 rows x 785 columns]"
      ]
     },
     "execution_count": 3,
     "metadata": {},
     "output_type": "execute_result"
    }
   ],
   "source": [
    "#Import libraries\n",
    "%matplotlib inline\n",
    "\n",
    "import matplotlib\n",
    "import numpy as np\n",
    "import matplotlib.pyplot as plt\n",
    "import pandas as pd\n",
    "from sklearn.datasets import make_classification\n",
    "from sklearn.linear_model import LogisticRegression\n",
    "from sklearn.model_selection import train_test_split\n",
    "from sklearn.pipeline import make_pipeline\n",
    "from sklearn.preprocessing import StandardScaler\n",
    "\n",
    "\n",
    "mnist_df = pd.read_csv('Mnist.csv')\n",
    "mnist_df.head()\n"
   ]
  },
  {
   "cell_type": "code",
   "execution_count": 5,
   "metadata": {},
   "outputs": [
    {
     "name": "stdout",
     "output_type": "stream",
     "text": [
      "X_train shape: \n",
      "=(20, 20)\n",
      "X_test shape: \n",
      "=(20, 20)\n",
      "y_train shape: \n",
      "=(20,)\n",
      "y_test shape: \n",
      "=(20,)\n",
      "X_dev shape: \n",
      "=(60, 20)\n",
      "y dev shape: \n",
      "=(60,)\n"
     ]
    }
   ],
   "source": [
    "# Split the data into a training, development, and test set.\n",
    "from sklearn.model_selection import train_test_split\n",
    "\n",
    "#setting the x and y axis\n",
    "X = mnist_df.drop(columns='label').values\n",
    "y = mnist_df['label'].values\n",
    "\n",
    "X, y = make_classification(random_state=42)\n",
    "\n",
    "# setting aside 20% of train and test data for evaluation\n",
    "X_train, X_test, y_train, y_test = train_test_split(X, y, test_size = 0.2, shuffle = True, random_state = 42)\n",
    "\n",
    "# Using the same function above for development set set\n",
    "X_train, X_dev, y_train, y_dev= train_test_split(X_train, y_train, train_size = 0.25, random_state= 42) \n",
    "\n",
    "p = make_pipeline(StandardScaler(), LogisticRegression())\n",
    "# applying scaling on training data\n",
    "p.fit(X_train, y_train)  \n",
    "\n",
    "\n",
    "# applying scaling on testing data, without leaking training data.\n",
    "p.score(X_test, y_test)  \n",
    "\n",
    "\n",
    "print(\"X_train shape: \\n={}\".format(X_train.shape))\n",
    "print(\"X_test shape: \\n={}\".format(X_test.shape))\n",
    "print(\"y_train shape: \\n={}\".format(y_train.shape))\n",
    "print(\"y_test shape: \\n={}\".format(y_test.shape))\n",
    "print(\"X_dev shape: \\n={}\".format(X_dev.shape))\n",
    "print(\"y dev shape: \\n={}\".format(y_dev.shape))\n"
   ]
  },
  {
   "cell_type": "code",
   "execution_count": 6,
   "metadata": {},
   "outputs": [
    {
     "data": {
      "text/plain": [
       "array([0.022, 0.016, 0.039, 0.87 , 0.966, 0.046, 0.938, 0.021, 0.03 ,\n",
       "       0.789, 0.361, 0.084, 0.925, 0.046, 0.956, 0.988, 0.925, 0.982,\n",
       "       0.891, 0.053])"
      ]
     },
     "execution_count": 6,
     "metadata": {},
     "output_type": "execute_result"
    }
   ],
   "source": [
    "# Choose two machine learning algorithms among the ones discussed in the\n",
    "# previous Tasks, and explain why you chose them\n",
    "X_train.reshape(-1,1)\n",
    "#1. \n",
    "#Logistic regression machine learning algorithm-\n",
    "#Because it is easier to inspect and less complex\n",
    "from sklearn.linear_model import LogisticRegression\n",
    "from sklearn import linear_model\n",
    "from sklearn.ensemble import RandomForestRegressor\n",
    "\n",
    "logmodel = LogisticRegression()\n",
    "logmodel.fit(X_train,y_train)\n",
    "predictions = logmodel.predict(X_train)\n",
    "predictions\n",
    "\n",
    "#2\n",
    "#because it classifies a new object based on the attributes and  \n",
    "#the forest also chooses the classification having the most votes\n",
    "\n",
    "# Instantiate model with 1000 decision trees\n",
    "rft = RandomForestRegressor(n_estimators = 1000, random_state = 42)\n",
    "# Train the model on training data\n",
    "rft.fit(X_train,y_train)\n",
    "pred = rft.predict(X_train)\n",
    "pred"
   ]
  },
  {
   "cell_type": "code",
   "execution_count": null,
   "metadata": {},
   "outputs": [],
   "source": [
    "#ref: https://towardsdatascience.com/hyperparameter-tuning-in-python-21a76794a1f7\n",
    "# For each model, pick one parameter to tune, and explain why you chose this\n",
    "# parameter.\n",
    "\n",
    "#1 \n",
    "# I chose this parameter for tuning because it is a cross-validation method that extracts  \n",
    "# the best parameter and then perform the predictions on the model\n",
    "from sklearn.model_selection import GridSearchCV\n",
    "grid_lr = GridSearchCV(estimator = logmodel, param_grid= mnist_df, scoring='accuracy', \n",
    "                       cv=6, refit=True, return_train_score=True) \n",
    "print(grid_lr)\n",
    "preds = grid_lr.best_estimator_.predict(X_train)\n",
    "preds\n",
    "\n",
    "\n",
    "\n",
    "#2\n",
    "#I also chose this parameter for tuning the model because \n",
    "#it will help me select the combinations randomly\n",
    "\n",
    "from sklearn.model_selection import RandomizedSearchCV\n",
    "random_rf = RandomizedSearchCV(estimator= rft, param_distributions= mnist_df,\n",
    "                              n_iter=10, scoring='accuracy', cv=5,\n",
    "                              refit=True, n_jobs=-1)\n",
    "\n",
    "#Training and prediction\n",
    "random_rf.fit(X_train, y_train)\n",
    "predi = random_rf.best_estimator_.predict(X_train)\n",
    "predi"
   ]
  },
  {
   "cell_type": "code",
   "execution_count": null,
   "metadata": {},
   "outputs": [],
   "source": [
    "# Choose which value for the parameter to set for testing on the test data and\n",
    "# explain why.(elaborate more on one of the above parameters)\n",
    "\n",
    "#Answer: GridSearchCV, I would choose this value for the parameter to set for testing on the test data\n",
    "#because it is a method that depends on the estimator being used and\n",
    "#It can be applied to non-continuous functions also It is easy to implement. "
   ]
  },
  {
   "cell_type": "code",
   "execution_count": null,
   "metadata": {},
   "outputs": [],
   "source": [
    "# Print confusion matrices for your two competitor models’ predictions on the\n",
    "# test set\n",
    "# (use the x_test and y_test to do the confusion metrices)\n",
    "# confusion matrices\n",
    "#confusion matrix 1\n",
    "from sklearn.metrics import plot_confusion_matrix\n",
    "clf = GridSearchCV(random_state = 0)\n",
    "clf.fit(X_train, y_train)\n",
    "predict = clf.predict(y_train)\n",
    "plot_confusion_matrix(clf, X_train, y_train)"
   ]
  },
  {
   "cell_type": "code",
   "execution_count": null,
   "metadata": {},
   "outputs": [],
   "source": [
    "#confusion matrixes 2\n",
    "from sklearn.metrics import plot_confusion_matrix\n",
    "clf = RandomizedSearchCV(random_state = 0)\n",
    "clf.fit(X_train, y_train)\n",
    "predict = clf.predict(y_test)\n",
    "plot_confusion_matrix(clf, X_train, y_train)"
   ]
  },
  {
   "cell_type": "code",
   "execution_count": null,
   "metadata": {},
   "outputs": [],
   "source": [
    "# Report which classes the models struggle with the most.(get the answer from the above model's prediction)\n",
    "#answer:\n",
    "#GridSearchCV struggled to define the combinations and do training of the model"
   ]
  },
  {
   "cell_type": "code",
   "execution_count": null,
   "metadata": {},
   "outputs": [],
   "source": [
    "# Report the accuracy, precision, recall, and f1-score.(use the sklearn method)\n",
    "from sklearn.metrics import accuracy_score\n",
    "acc = accuracy_score(X_test, y_test)\n",
    "acc\n",
    "\n"
   ]
  },
  {
   "cell_type": "code",
   "execution_count": null,
   "metadata": {},
   "outputs": [],
   "source": [
    "from sklearn.metrics import f1_score, precision_score, recall_score\n",
    "#calculating the f1 score\n",
    "f1 = f1_score(y_test, prediction, average = 'micro')\n",
    "print(f1)\n",
    "\n",
    "\n",
    "f_score = f1_score(y_test, prediction, average = None)\n",
    "#claculating the lowest F1 score\n",
    "minimum_score = min(f_score) \n",
    "\n",
    "#getting the hardest class in the Species column\n",
    "hard_class = classes[list(f_score).index(minimum_score)]\n",
    "print(f'The Hardest class is: {hard_class}')"
   ]
  },
  {
   "cell_type": "code",
   "execution_count": null,
   "metadata": {},
   "outputs": [],
   "source": [
    "#precision score\n",
    "from sklearn.metrics import precision_score\n",
    "\n",
    "print(precision_score(y_test, prediction, average='macro'))\n",
    "print(precision_score(y_test, prediction, average='micro'))\n",
    "print(precision_score(y_test, prediction, average='weighted'))\n"
   ]
  },
  {
   "cell_type": "code",
   "execution_count": null,
   "metadata": {},
   "outputs": [],
   "source": [
    "# Comment on the differences in performance and report which model you\n",
    "# believe did the best job.\n",
    "#answer: GridSearchCV, I think this model performed the  best because it extracted the best parameter"
   ]
  },
  {
   "cell_type": "code",
   "execution_count": null,
   "metadata": {},
   "outputs": [],
   "source": []
  }
 ],
 "metadata": {
  "colab": {
   "name": "MNIST.ipynb",
   "provenance": [],
   "version": "0.3.2"
  },
  "kernelspec": {
   "display_name": "Python 3 (ipykernel)",
   "language": "python",
   "name": "python3"
  },
  "language_info": {
   "codemirror_mode": {
    "name": "ipython",
    "version": 3
   },
   "file_extension": ".py",
   "mimetype": "text/x-python",
   "name": "python",
   "nbconvert_exporter": "python",
   "pygments_lexer": "ipython3",
   "version": "3.9.7"
  }
 },
 "nbformat": 4,
 "nbformat_minor": 1
}
